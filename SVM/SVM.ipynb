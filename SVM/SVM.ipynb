{
  "nbformat": 4,
  "nbformat_minor": 0,
  "metadata": {
    "colab": {
      "provenance": [],
      "machine_shape": "hm",
      "gpuType": "V28"
    },
    "kernelspec": {
      "name": "python3",
      "display_name": "Python 3"
    },
    "language_info": {
      "name": "python"
    },
    "accelerator": "TPU"
  },
  "cells": [
    {
      "cell_type": "code",
      "execution_count": null,
      "metadata": {
        "id": "iWSaK_n_X4UL",
        "colab": {
          "base_uri": "https://localhost:8080/"
        },
        "outputId": "452d1fa6-a7b0-4f64-ebd9-6a3811d02c69"
      },
      "outputs": [
        {
          "output_type": "stream",
          "name": "stdout",
          "text": [
            "Requirement already satisfied: datasets in /usr/local/lib/python3.10/dist-packages (3.2.0)\n",
            "Requirement already satisfied: filelock in /usr/local/lib/python3.10/dist-packages (from datasets) (3.16.1)\n",
            "Requirement already satisfied: numpy>=1.17 in /usr/local/lib/python3.10/dist-packages (from datasets) (1.26.4)\n",
            "Requirement already satisfied: pyarrow>=15.0.0 in /usr/local/lib/python3.10/dist-packages (from datasets) (18.1.0)\n",
            "Requirement already satisfied: dill<0.3.9,>=0.3.0 in /usr/local/lib/python3.10/dist-packages (from datasets) (0.3.8)\n",
            "Requirement already satisfied: pandas in /usr/local/lib/python3.10/dist-packages (from datasets) (2.2.2)\n",
            "Requirement already satisfied: requests>=2.32.2 in /usr/local/lib/python3.10/dist-packages (from datasets) (2.32.3)\n",
            "Requirement already satisfied: tqdm>=4.66.3 in /usr/local/lib/python3.10/dist-packages (from datasets) (4.66.6)\n",
            "Requirement already satisfied: xxhash in /usr/local/lib/python3.10/dist-packages (from datasets) (3.5.0)\n",
            "Requirement already satisfied: multiprocess<0.70.17 in /usr/local/lib/python3.10/dist-packages (from datasets) (0.70.16)\n",
            "Requirement already satisfied: fsspec<=2024.9.0,>=2023.1.0 in /usr/local/lib/python3.10/dist-packages (from fsspec[http]<=2024.9.0,>=2023.1.0->datasets) (2024.9.0)\n",
            "Requirement already satisfied: aiohttp in /usr/local/lib/python3.10/dist-packages (from datasets) (3.11.10)\n",
            "Requirement already satisfied: huggingface-hub>=0.23.0 in /usr/local/lib/python3.10/dist-packages (from datasets) (0.26.5)\n",
            "Requirement already satisfied: packaging in /usr/local/lib/python3.10/dist-packages (from datasets) (24.2)\n",
            "Requirement already satisfied: pyyaml>=5.1 in /usr/local/lib/python3.10/dist-packages (from datasets) (6.0.2)\n",
            "Requirement already satisfied: aiohappyeyeballs>=2.3.0 in /usr/local/lib/python3.10/dist-packages (from aiohttp->datasets) (2.4.4)\n",
            "Requirement already satisfied: aiosignal>=1.1.2 in /usr/local/lib/python3.10/dist-packages (from aiohttp->datasets) (1.3.2)\n",
            "Requirement already satisfied: async-timeout<6.0,>=4.0 in /usr/local/lib/python3.10/dist-packages (from aiohttp->datasets) (5.0.1)\n",
            "Requirement already satisfied: attrs>=17.3.0 in /usr/local/lib/python3.10/dist-packages (from aiohttp->datasets) (24.2.0)\n",
            "Requirement already satisfied: frozenlist>=1.1.1 in /usr/local/lib/python3.10/dist-packages (from aiohttp->datasets) (1.5.0)\n",
            "Requirement already satisfied: multidict<7.0,>=4.5 in /usr/local/lib/python3.10/dist-packages (from aiohttp->datasets) (6.1.0)\n",
            "Requirement already satisfied: propcache>=0.2.0 in /usr/local/lib/python3.10/dist-packages (from aiohttp->datasets) (0.2.1)\n",
            "Requirement already satisfied: yarl<2.0,>=1.17.0 in /usr/local/lib/python3.10/dist-packages (from aiohttp->datasets) (1.18.3)\n",
            "Requirement already satisfied: typing-extensions>=3.7.4.3 in /usr/local/lib/python3.10/dist-packages (from huggingface-hub>=0.23.0->datasets) (4.12.2)\n",
            "Requirement already satisfied: charset-normalizer<4,>=2 in /usr/local/lib/python3.10/dist-packages (from requests>=2.32.2->datasets) (3.4.0)\n",
            "Requirement already satisfied: idna<4,>=2.5 in /usr/local/lib/python3.10/dist-packages (from requests>=2.32.2->datasets) (3.10)\n",
            "Requirement already satisfied: urllib3<3,>=1.21.1 in /usr/local/lib/python3.10/dist-packages (from requests>=2.32.2->datasets) (2.2.3)\n",
            "Requirement already satisfied: certifi>=2017.4.17 in /usr/local/lib/python3.10/dist-packages (from requests>=2.32.2->datasets) (2024.8.30)\n",
            "Requirement already satisfied: python-dateutil>=2.8.2 in /usr/local/lib/python3.10/dist-packages (from pandas->datasets) (2.9.0.post0)\n",
            "Requirement already satisfied: pytz>=2020.1 in /usr/local/lib/python3.10/dist-packages (from pandas->datasets) (2024.2)\n",
            "Requirement already satisfied: tzdata>=2022.7 in /usr/local/lib/python3.10/dist-packages (from pandas->datasets) (2024.2)\n",
            "Requirement already satisfied: six>=1.5 in /usr/local/lib/python3.10/dist-packages (from python-dateutil>=2.8.2->pandas->datasets) (1.17.0)\n"
          ]
        }
      ],
      "source": [
        "!pip install datasets\n",
        "\n",
        "import numpy as np\n",
        "from datasets import load_dataset\n",
        "from sklearn.svm import LinearSVC, SVC\n",
        "from sklearn.model_selection import train_test_split, GridSearchCV\n",
        "from sklearn.metrics import classification_report, accuracy_score, confusion_matrix\n",
        "from sklearn.preprocessing import StandardScaler\n",
        "from sklearn.decomposition import PCA"
      ]
    },
    {
      "cell_type": "code",
      "source": [
        "# Load dataset\n",
        "dataset = load_dataset(\"akinsanyaayomide/skin_cancer_dataset_balanced_labels\")\n",
        "\n",
        "\n",
        "# Prepare training and test data\n",
        "train_labels = np.array(dataset['train']['label'])\n",
        "test_labels = np.array(dataset['test']['label'])\n",
        "\n",
        "# Flatten the images\n",
        "train_images = np.array(dataset['train']['image'])\n",
        "train_images_flat = train_images.reshape(train_images.shape[0], -1)\n",
        "\n",
        "test_images = np.array(dataset['test']['image'])\n",
        "test_images_flat = test_images.reshape(test_images.shape[0], -1)\n",
        "\n",
        "# Standardize the data\n",
        "scaler = StandardScaler()\n",
        "train_images = scaler.fit_transform(train_images_flat)\n",
        "test_images = scaler.transform(test_images_flat)"
      ],
      "metadata": {
        "id": "C_s47iV7Z0lJ"
      },
      "execution_count": null,
      "outputs": []
    },
    {
      "cell_type": "code",
      "source": [
        "# Apply PCA\n",
        "pca = PCA(n_components=100)  # Retain 95% of variance\n",
        "train_images_pca = pca.fit_transform(train_images)\n",
        "test_images_pca = pca.transform(test_images)"
      ],
      "metadata": {
        "id": "o-VM5brJk_nl"
      },
      "execution_count": null,
      "outputs": []
    },
    {
      "cell_type": "code",
      "source": [
        "print(train_images_pca.shape)"
      ],
      "metadata": {
        "colab": {
          "base_uri": "https://localhost:8080/"
        },
        "id": "BwDQBtWWoDO5",
        "outputId": "14276a86-cf45-426e-f558-344f174fe5a9"
      },
      "execution_count": null,
      "outputs": [
        {
          "output_type": "stream",
          "name": "stdout",
          "text": [
            "(16800, 100)\n"
          ]
        }
      ]
    },
    {
      "cell_type": "markdown",
      "source": [],
      "metadata": {
        "id": "pZNRVLekgPH7"
      }
    },
    {
      "cell_type": "code",
      "source": [
        "# Train a LinearSVC model\n",
        "svm = SVC(C=10)\n",
        "\n",
        "# Train the model on the whole training data\n",
        "svm.fit(train_images_pca, train_labels)\n",
        "\n",
        "# Predict on the test set\n",
        "predictions = svm.predict(test_images_pca)\n",
        "\n",
        "# Evaluate the model\n",
        "print(\"Classification Report:\\n\", classification_report(test_labels, predictions))\n",
        "print(\"Accuracy Score:\\n\", accuracy_score(test_labels, predictions))"
      ],
      "metadata": {
        "colab": {
          "base_uri": "https://localhost:8080/"
        },
        "id": "cIFUvZXgqEWK",
        "outputId": "e544666f-a3ae-4e4f-94e1-8755dddb44dd"
      },
      "execution_count": null,
      "outputs": [
        {
          "output_type": "stream",
          "name": "stdout",
          "text": [
            "Classification Report:\n",
            "               precision    recall  f1-score   support\n",
            "\n",
            "           0       0.51      0.47      0.49       524\n",
            "           1       0.50      0.68      0.58       524\n",
            "           2       0.39      0.45      0.42       524\n",
            "           3       0.69      0.72      0.70       524\n",
            "           4       0.54      0.34      0.42       524\n",
            "           5       0.56      0.59      0.57       524\n",
            "           6       0.53      0.44      0.49       524\n",
            "           7       0.87      0.87      0.87       524\n",
            "\n",
            "    accuracy                           0.57      4192\n",
            "   macro avg       0.57      0.57      0.57      4192\n",
            "weighted avg       0.57      0.57      0.57      4192\n",
            "\n",
            "Accuracy Score:\n",
            " 0.5696564885496184\n"
          ]
        }
      ]
    },
    {
      "cell_type": "code",
      "source": [
        "param_grid = {\n",
        "    'C': [10, 100],         # Regularization parameter\n",
        "    'gamma': ['scale', 0.01],  # Kernel coefficient\n",
        "    'kernel': ['rbf']  # SVM kernels\n",
        "}\n",
        "\n",
        "# Initialize SVM and GridSearchCV\n",
        "svm = SVC(random_state=42)\n",
        "grid_search = GridSearchCV(estimator=svm, param_grid=param_grid, cv=2, verbose=2, n_jobs=-1)\n",
        "\n",
        "grid_search.fit(train_images_pca, train_labels)\n",
        "print(\"Best Parameters from GridSearchCV:\", grid_search.best_params_)\n",
        "print(\"Best Score from GridSearchCV:\", grid_search.best_score_)\n",
        "\n",
        "# Extract the best model from the grid search\n",
        "best_model = grid_search.best_estimator_\n",
        "\n",
        "# Predict on the test set\n",
        "y_pred = best_model.predict(test_images_pca)\n",
        "\n",
        "# Calculate accuracy\n",
        "accuracy = accuracy_score(test_labels, y_pred)\n",
        "print(\"Accuracy of the Best Model:\", accuracy)\n",
        "\n",
        "# Display the classification report\n",
        "print(\"\\nClassification Report:\")\n",
        "print(classification_report(test_labels, y_pred))\n",
        "\n",
        "# Display the confusion matrix\n",
        "print(\"\\nConfusion Matrix:\")\n",
        "print(confusion_matrix(test_labels, y_pred))\n",
        "\n"
      ],
      "metadata": {
        "id": "D_ljD92EZ9ds",
        "colab": {
          "base_uri": "https://localhost:8080/"
        },
        "outputId": "1806eaf0-e416-46bc-b59f-d3a9d0ec349c"
      },
      "execution_count": null,
      "outputs": [
        {
          "output_type": "stream",
          "name": "stdout",
          "text": [
            "Fitting 2 folds for each of 4 candidates, totalling 8 fits\n",
            "Best Parameters from GridSearchCV: {'C': 10, 'gamma': 'scale', 'kernel': 'rbf'}\n",
            "Best Score from GridSearchCV: 0.5372619047619047\n",
            "Accuracy of the Best Model: 0.5713263358778626\n",
            "\n",
            "Classification Report:\n",
            "              precision    recall  f1-score   support\n",
            "\n",
            "           0       0.50      0.47      0.48       524\n",
            "           1       0.50      0.68      0.57       524\n",
            "           2       0.40      0.45      0.42       524\n",
            "           3       0.69      0.72      0.70       524\n",
            "           4       0.54      0.35      0.43       524\n",
            "           5       0.56      0.58      0.57       524\n",
            "           6       0.54      0.45      0.49       524\n",
            "           7       0.87      0.87      0.87       524\n",
            "\n",
            "    accuracy                           0.57      4192\n",
            "   macro avg       0.57      0.57      0.57      4192\n",
            "weighted avg       0.57      0.57      0.57      4192\n",
            "\n",
            "\n",
            "Confusion Matrix:\n",
            "[[245  75  50  39  21  11  74   9]\n",
            " [ 20 356  69  17  19  17  20   6]\n",
            " [ 25 118 238   4  46  66  20   7]\n",
            " [ 36  25  17 375   7   5  45  14]\n",
            " [ 22  45 120   8 184 123  11  11]\n",
            " [  8  29  81  27  44 305  17  13]\n",
            " [108  59  23  58  16  16 236   8]\n",
            " [ 23   8   0  16   4   4  13 456]]\n"
          ]
        }
      ]
    },
    {
      "cell_type": "code",
      "source": [],
      "metadata": {
        "id": "B75Vd3fLuLtK"
      },
      "execution_count": null,
      "outputs": []
    }
  ]
}